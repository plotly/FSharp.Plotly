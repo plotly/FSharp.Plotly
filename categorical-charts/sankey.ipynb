
{
 "cells": [
  {
   "cell_type": "markdown",
   "metadata": {},
   
   "source": [
    
   ]
  }
,
  {
   "cell_type": "code",
   "metadata": {
    "dotnet_interactive": {
     "language": "fsharp"
    },
    "polyglot_notebook": {
     "kernelName": "fsharp"
    }
   },
   "execution_count": null, "outputs": [],
   "source": [
    "#r \"nuget: Plotly.NET, 5.0.0\"\n",
    "#r \"nuget: Plotly.NET.Interactive, 5.0.0\"\n"
   ]
  }
,
  {
   "cell_type": "markdown",
   "metadata": {},
   
   "source": [
    "# Sankey charts\n",
    "\n",
    "[![Binder](https://plotly.net/img/badge-binder.svg)](https://mybinder.org/v2/gh/plotly/plotly.net/gh-pages?urlpath=/tree/home/jovyan/categorical-charts/sankey.ipynb)\u0026emsp;\n",
    "[![Notebook](https://plotly.net/img/badge-notebook.svg)](https://plotly.net/categorical-charts/sankey.ipynb)\n",
    "\n",
    "**Summary:** This example shows how to create sankey charts in F#.\n",
    "\n",
    "Sankey charts are a visualization of multiple, linked graphs layed out linearly.\n",
    "These are usually used to depict flow between nodes or stations.\n",
    "To create Sankey, a set of nodes and links between them are required.\n",
    "These are created using the provided Node and Link structures.\n",
    "\n"
   ]
  }
,
  {
   "cell_type": "code",
   "metadata": {
    "dotnet_interactive": {
     "language": "fsharp"
    },
    "polyglot_notebook": {
     "kernelName": "fsharp"
    }
   },
   "execution_count": 3, "outputs": [],
   "source": [
    "open Plotly.NET\n",
    "\n",
    "let sankey1 =\n",
    "    Chart.Sankey(\n",
    "        nodeLabels = [ \"A1\"; \"A2\"; \"B1\"; \"B2\"; \"C1\"; \"C2\"; \"D1\" ],\n",
    "        linkedNodeIds =\n",
    "            [ // Edgelist, toupling sourceIndex =\u003e targetIndex of the link\n",
    "              0, 2\n",
    "              0, 3\n",
    "              1, 3\n",
    "              2, 4\n",
    "              3, 4\n",
    "              3, 5\n",
    "              4, 6\n",
    "              5, 6 ],\n",
    "        NodeOutlineColor = Color.fromKeyword Black,\n",
    "        NodeOutlineWidth = 1.,\n",
    "        linkValues = [ 8; 4; 2; 7; 3; 2; 5; 2 ],\n",
    "        LinkColor =\n",
    "            Color.fromColors\n",
    "                [ Color.fromHex \"#828BFB\"\n",
    "                  Color.fromHex \"#828BFB\"\n",
    "                  Color.fromHex \"#F27762\"\n",
    "                  Color.fromHex \"#33D6AB\"\n",
    "                  Color.fromHex \"#BC82FB\"\n",
    "                  Color.fromHex \"#BC82FB\"\n",
    "                  Color.fromHex \"#FFB47B\"\n",
    "                  Color.fromHex \"#47DCF5\" ],\n",
    "        LinkOutlineColor = Color.fromKeyword Black,\n",
    "        LinkOutlineWidth = 1.,\n",
    "        UseDefaults = false\n",
    "    )\n"
   ]
  }
,
  {
   "cell_type": "code",
   "metadata": {
    "dotnet_interactive": {
     "language": "fsharp"
    },
    "polyglot_notebook": {
     "kernelName": "fsharp"
    }
   },
   "execution_count": null, "outputs": [
          {
           "data": {
            "text/html": ["\u003cdiv\u003e\u003cdiv id=\"b7aae290-f4ab-4f03-8535-c801a81da95c\"\u003e\u003c!-- Plotly chart will be drawn inside this DIV --\u003e\u003c/div\u003e\u003cscript type=\"text/javascript\"\u003evar renderPlotly_b7aae290f4ab4f038535c801a81da95c = function() {",
"    var data = [{\"type\":\"sankey\",\"node\":{\"label\":[\"A1\",\"A2\",\"B1\",\"B2\",\"C1\",\"C2\",\"D1\"],\"line\":{\"color\":\"rgba(0, 0, 0, 1.0)\",\"width\":1.0}},\"link\":{\"color\":[\"rgba(130, 139, 251, 1.0)\",\"rgba(130, 139, 251, 1.0)\",\"rgba(242, 119, 98, 1.0)\",\"rgba(51, 214, 171, 1.0)\",\"rgba(188, 130, 251, 1.0)\",\"rgba(188, 130, 251, 1.0)\",\"rgba(255, 180, 123, 1.0)\",\"rgba(71, 220, 245, 1.0)\"],\"line\":{\"color\":\"rgba(0, 0, 0, 1.0)\",\"width\":1.0},\"source\":[0,0,1,2,3,3,4,5],\"target\":[2,3,3,4,4,5,6,6],\"value\":[8,4,2,7,3,2,5,2]}}];",
"    var layout = {};",
"    var config = {};",
"    Plotly.newPlot(\u0027b7aae290-f4ab-4f03-8535-c801a81da95c\u0027, data, layout, config);",
"};",
"renderPlotly_b7aae290f4ab4f038535c801a81da95c();",
"\u003c/script\u003e\u003c/div\u003e"]
        },
           "execution_count": null,
           "metadata": {},
           "output_type": "execute_result"
          }],
   "source": [
    "sankey1\n"
   ]
  }
 ],
 "metadata": {
  "kernelspec": {
   "display_name": ".NET (F#)",
   "language": "F#",
   "name": ".net-fsharp"
  },
  "language_info": {
   "file_extension": ".fs",
   "mimetype": "text/x-fsharp",
   "name": "polyglot-notebook",
   "pygments_lexer": "fsharp"
  },
  "polyglot_notebook": {
   "kernelInfo": {
    "defaultKernelName": "fsharp",
    "items": [
     {
      "aliases": [],
      "languageName": "fsharp",
      "name": "fsharp"
     }
    ]
   }
  }
 },
 "nbformat": 4,
 "nbformat_minor": 2
}

