
{
 "cells": [
  {
   "cell_type": "markdown",
   "metadata": {},
   
   "source": [
    
   ]
  }
,
  {
   "cell_type": "code",
   "metadata": {
    "dotnet_interactive": {
     "language": "fsharp"
    },
    "polyglot_notebook": {
     "kernelName": "fsharp"
    }
   },
   "execution_count": null, "outputs": [],
   "source": [
    "#r \"nuget: Plotly.NET, 5.0.0\"\n",
    "#r \"nuget: Plotly.NET.Interactive, 5.0.0\"\n",
    "#r \"nuget: Plotly.NET.ImageExport, 5.0.0\"\n"
   ]
  }
,
  {
   "cell_type": "markdown",
   "metadata": {},
   
   "source": [
    "[![Binder](https://plotly.net/img/badge-binder.svg)](https://mybinder.org/v2/gh/plotly/plotly.net/gh-pages?urlpath=/tree/home/jovyan/general/image-export.ipynb)\u0026emsp;\n",
    "[![Notebook](https://plotly.net/img/badge-notebook.svg)](https://plotly.net/general/image-export.ipynb)\n",
    "\n",
    "# Static image export\n",
    "\n",
    "### Table of contents\n",
    "\n",
    "* [Saving static images](#Saving-static-images)\n",
    "\n",
    "* [Generating URIs for static chart images](#Generating-URIs-for-static-chart-images)\n",
    "\n",
    "As Plotly.NET generates static html pages that contain charts rendered by plotly.js, static image export needs a lot more overhead under the hood\n",
    "than you might expect. The underlying renderer needs to execute javascript, leading to the usage of headless browsers.\n",
    "\n",
    "The package `Plotly.NET.ImageExport` contains extensions for Plotly.NET to render static images. It is designed with extensibility in mind and\n",
    "it is very easy to add a new rendering engine. The current engines are provided:\n",
    "\n",
    "Rendering engine | Type | Prerequisites\n",
    "--- | --- | ---\n",
    "[PuppeteerSharp](https://github.com/hardkoded/puppeteer-sharp) | headless browser | [read more here](https://github.com/hardkoded/puppeteer-sharp#prerequisites)\n",
    "\n",
    "\n",
    "## Saving static images\n",
    "\n",
    "By referencing the `Plotly.NET.ImageExport` package, you get access to:\n",
    "\n",
    "* jpg via `Chart.SaveJPG`\n",
    "\n",
    "* png via `Chart.SavePNG`\n",
    "\n",
    "* svg via `Chart.SaveSVG`\n",
    "\n",
    "(and Extensions for C# style fluent interfaces by opening the `GenericChartExtensions` namespace)\n",
    "\n",
    "The parameters for all three functions are exactly the same.\n",
    "\n"
   ]
  }
,
  {
   "cell_type": "code",
   "metadata": {
    "dotnet_interactive": {
     "language": "fsharp"
    },
    "polyglot_notebook": {
     "kernelName": "fsharp"
    }
   },
   "execution_count": 3, "outputs": [],
   "source": [
    "open Plotly.NET\n",
    "open Plotly.NET.ImageExport\n",
    "\n",
    "let exampleChart =\n",
    "    Chart.Histogram2DContour([ 1.; 2.; 2.; 4.; 5. ], [ 1.; 2.; 2.; 4.; 5. ])\n"
   ]
  }
,
  {
   "cell_type": "code",
   "metadata": {
    "dotnet_interactive": {
     "language": "fsharp"
    },
    "polyglot_notebook": {
     "kernelName": "fsharp"
    }
   },
   "execution_count": null, "outputs": [],
   "source": [
    "exampleChart\n",
    "|\u003e Chart.saveJPG (\"/your/path/without/extension/here\", Width = 300, Height = 300)\n"
   ]
  }
,
  {
   "cell_type": "markdown",
   "metadata": {},
   
   "source": [
    "## Generating URIs for static chart images\n",
    "\n",
    "By referencing the `Plotly.NET.ImageExport` package, you get access to:\n",
    "\n",
    "* jpg via `Chart.toBase64JPGString`\n",
    "\n",
    "* png via `Chart.toBase64PNGString`\n",
    "\n",
    "* svg via `Chart.toSVGString`\n",
    "\n",
    "(and Extensions for C# style fluent interfaces by opening the `GenericChartExtensions` namespace)\n",
    "\n"
   ]
  }
,
  {
   "cell_type": "code",
   "metadata": {
    "dotnet_interactive": {
     "language": "fsharp"
    },
    "polyglot_notebook": {
     "kernelName": "fsharp"
    }
   },
   "execution_count": null, "outputs": [],
   "source": [
    "let base64JPG = exampleChart |\u003e Chart.toBase64JPGString (Width = 300, Height = 300)\n"
   ]
  }
,
  {
   "cell_type": "markdown",
   "metadata": {},
   
   "source": [
    "It is very easy to construct a html tag that includes this image via a base64 uri. For SVGs,\n",
    "not even that is necessary and just the SVG string can be used.\n",
    "\n"
   ]
  }
,
  {
   "cell_type": "code",
   "metadata": {
    "dotnet_interactive": {
     "language": "fsharp"
    },
    "polyglot_notebook": {
     "kernelName": "fsharp"
    }
   },
   "execution_count": null, "outputs": [],
   "source": [
    "$\"\"\"\u003cimg\n",
    "    src= \"{base64JPG}\"\n",
    "/\u003e\"\"\"\n"
   ]
  }
 ],
 "metadata": {
  "kernelspec": {
   "display_name": ".NET (F#)",
   "language": "F#",
   "name": ".net-fsharp"
  },
  "language_info": {
   "file_extension": ".fs",
   "mimetype": "text/x-fsharp",
   "name": "polyglot-notebook",
   "pygments_lexer": "fsharp"
  },
  "polyglot_notebook": {
   "kernelInfo": {
    "defaultKernelName": "fsharp",
    "items": [
     {
      "aliases": [],
      "languageName": "fsharp",
      "name": "fsharp"
     }
    ]
   }
  }
 },
 "nbformat": 4,
 "nbformat_minor": 2
}

